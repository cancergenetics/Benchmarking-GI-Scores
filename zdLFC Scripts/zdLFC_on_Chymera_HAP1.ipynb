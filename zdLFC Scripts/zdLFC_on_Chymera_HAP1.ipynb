{
 "cells": [
  {
   "cell_type": "markdown",
   "id": "c526cb72",
   "metadata": {},
   "source": [
    "Original code by Dede et al. (https://figshare.com/articles/software/enCas12a_screen_analysis_pipeline/12275642), licensed under CC BY 4.0\n",
    "https://creativecommons.org/licenses/by/4.0/\n",
    "Modified by Hamda Ajmal, March 2025\n",
    "\n",
    "Changes: Extracted relevant portions of the code and applied them to different datasets."
   ]
  },
  {
   "cell_type": "code",
   "execution_count": null,
   "id": "a4229efa",
   "metadata": {},
   "outputs": [],
   "source": [
    "%matplotlib inline\n",
    "import pandas as pd\n",
    "import scipy.stats as stats\n",
    "import scipy.cluster.hierarchy as clust\n",
    "import seaborn as sns\n",
    "import matplotlib.pyplot as plt"
   ]
  },
  {
   "cell_type": "code",
   "execution_count": null,
   "id": "5f80d7f5",
   "metadata": {},
   "outputs": [],
   "source": [
    "reads = pd.read_csv('../InputData/Chymera/Chymera.csv', index_col=0, sep=',')\n",
    "reads.columns"
   ]
  },
  {
   "cell_type": "code",
   "execution_count": null,
   "id": "68409fe5",
   "metadata": {},
   "outputs": [],
   "source": [
    "reads = reads[[ 'gene1', 'gene2', 'HAP1.T12A', 'HAP1.T12B', 'HAP1.T12C', 'HAP1.T18A', 'HAP1.T18B',\n",
    "       'HAP1.T18C', 'HAP1.T0']] # remove early time points too as we dont need them\n",
    "reads\n"
   ]
  },
  {
   "cell_type": "code",
   "execution_count": null,
   "id": "751e0488",
   "metadata": {},
   "outputs": [],
   "source": [
    "reads = reads[(reads['gene1'] != \"NT\") & (reads['gene2'] != \"NT\")]\n",
    "## Remove NTs too\n",
    "reads.shape\n",
    "bothNegs = reads[((reads['gene1'] == 'NegControl') & (reads['gene2'] == 'NegControl'))]\n",
    "## also remove rows where both are \n",
    "reads = reads[~((reads['gene1'] == 'NegControl') & (reads['gene2'] == 'NegControl'))]\n",
    "#reads.shape"
   ]
  },
  {
   "cell_type": "code",
   "execution_count": null,
   "id": "46de5087",
   "metadata": {},
   "outputs": [],
   "source": [
    "reads = reads[(pd.notna(reads['gene1'] )) & (pd.notna(reads['gene2']))]\n",
    "#reads.shape"
   ]
  },
  {
   "cell_type": "code",
   "execution_count": null,
   "id": "5dadff02",
   "metadata": {
    "scrolled": true
   },
   "outputs": [],
   "source": [
    "numGuides, numSamples = reads.shape\n",
    "\n",
    "numGuides, numSamples \n",
    "\n",
    "reads.head(10)"
   ]
  },
  {
   "cell_type": "code",
   "execution_count": null,
   "id": "34d5f82e",
   "metadata": {},
   "outputs": [],
   "source": [
    "sample_sum = reads.iloc[:,range(2,numSamples)].sum(0)\n",
    "sample_sum"
   ]
  },
  {
   "cell_type": "code",
   "execution_count": null,
   "id": "480ee407",
   "metadata": {},
   "outputs": [],
   "source": [
    "import matplotlib.pyplot as plt\n",
    "%pylab inline\n",
    "highlight_index = -1\n",
    "colors = ['tab:blue'] * len(sample_sum)\n",
    "colors[highlight_index] = 'tab:red'\n",
    "figure(figsize = (6,4))\n",
    "barh( arange(len(sample_sum)), sample_sum, align='center', color = colors)\n",
    "ylim(-1, len(sample_sum)) # len(sample_sum) = 10\n",
    "yticks(arange(len(sample_sum)), reads.columns.values[2:], rotation=0)\n",
    "\n",
    "show()"
   ]
  },
  {
   "cell_type": "code",
   "execution_count": null,
   "id": "7ce092ed",
   "metadata": {},
   "outputs": [],
   "source": [
    "pseudo=5\n",
    "reads[reads.columns[2:]] = reads[reads.columns[2:]] + pseudo\n"
   ]
  },
  {
   "cell_type": "code",
   "execution_count": null,
   "id": "cf99fcbb",
   "metadata": {},
   "outputs": [],
   "source": [
    "reads['GENE'] = reads.apply(lambda row: f\"{row['gene1']}|{row['gene2']}\", axis=1)\n",
    "reads\n",
    "reads.drop(['gene1', 'gene2'], axis = 1, inplace = True)"
   ]
  },
  {
   "cell_type": "code",
   "execution_count": null,
   "id": "e73d5df9",
   "metadata": {},
   "outputs": [],
   "source": [
    "reads.columns\n",
    "reads = reads[['GENE', 'HAP1.T12A', 'HAP1.T12B', 'HAP1.T12C', 'HAP1.T18A', 'HAP1.T18B',\n",
    "       'HAP1.T18C', 'HAP1.T0']]\n"
   ]
  },
  {
   "cell_type": "code",
   "execution_count": null,
   "id": "ce57e6fc",
   "metadata": {},
   "outputs": [],
   "source": [
    "numGuides, numSamples = reads.shape\n",
    "meanReads = reads.iloc[:,range(1,numSamples)].mean(0) # colmean\n",
    "\n",
    "normed = pd.DataFrame(index=reads.index, columns=reads.columns) # empty data frame\n",
    "normed['GENE'] = reads.iloc[:, 0]\n",
    "\n",
    "normed[ normed.columns[1:] ] =   (reads.iloc[:, range(1, numSamples)] ) / np.tile(meanReads.values, [numGuides, 1]) * 500  # normalize to mean 500 read\n"
   ]
  },
  {
   "cell_type": "code",
   "execution_count": null,
   "id": "5384e166",
   "metadata": {},
   "outputs": [],
   "source": [
    "fc = pd.DataFrame(index=reads.index, columns=reads.columns[reads.columns != 'HAP1.T0'])#non-normalised\n",
    "fc['GENE'] = reads['GENE']  # first column is gene name\n",
    "fc\n",
    "numFCsamples = fc.shape[1]-1   # number of columns for which to calculate FC\n",
    "numFCsamples\n",
    "pseudo = 0 # remmeber pseudocount is already in the data \n"
   ]
  },
  {
   "cell_type": "code",
   "execution_count": null,
   "id": "d1756046",
   "metadata": {},
   "outputs": [],
   "source": [
    "fc[ fc.columns[1:] ] = log2( (normed[ normed.columns[1:-1]] + pseudo) / np.tile( normed[ normed.columns[-1]] + pseudo , [numFCsamples, 1]).T )\n"
   ]
  },
  {
   "cell_type": "code",
   "execution_count": null,
   "id": "033137eb",
   "metadata": {},
   "outputs": [],
   "source": [
    "## Anything with NegControl  is control in this study\n",
    "fc_base = pd.DataFrame(index=fc.index, columns=fc.columns) # non-normalised\n",
    "fc_base.iloc[:] = fc.iloc[:]\n",
    "fc_base\n",
    "fc_base[['GENE1', 'GENE2']] = fc_base.GENE.str.split(\"|\", expand = True)\n",
    "fc_base.drop(['GENE'], inplace = True,axis=1)\n",
    "fc_base\n",
    "fc_base.loc[fc_base['GENE1'].str.contains('NegControl'), 'GENE1'] = 'control'\n",
    "fc_base.loc[fc_base['GENE2'].str.contains('NegControl'),'GENE2'] = 'control'\n",
    "\n",
    "fc_base"
   ]
  },
  {
   "cell_type": "code",
   "execution_count": null,
   "id": "e3b61135",
   "metadata": {},
   "outputs": [],
   "source": [
    "cells = list([ 'HAP1.T12', 'HAP1.T18'])\n",
    "cols = list(['GENE1']) + list( ['GENE2']) + cells\n",
    "cols\n",
    "fc_merge = pd.DataFrame( columns=cols, index=fc_base.index, dtype=float)\n",
    "fc_merge.GENE1 = fc_base.GENE1\n",
    "fc_merge.GENE2 = fc_base.GENE2\n",
    "fc_merge\n",
    "for cell in cells:\n",
    "    samples = [x for x in fc_base.columns if cell in x]\n",
    "    fc_merge[cell] = fc[ samples ].mean(1)\n",
    "\n",
    "fc_merge"
   ]
  },
  {
   "cell_type": "code",
   "execution_count": null,
   "id": "20053e1a",
   "metadata": {},
   "outputs": [],
   "source": [
    "is_ctrl = where( (fc_merge.GENE1=='control') | (fc_merge.GENE2=='control') )[0]\n",
    "\n",
    "is_ctrl1 = where( fc_merge.GENE1=='control' )[0]\n",
    "is_ctrl2 = where( fc_merge.GENE2=='control' )[0]\n",
    "\n",
    "\n",
    "smf_gene1 = fc_merge.iloc[is_ctrl2].groupby('GENE1').mean(numeric_only = True) # calculate means of multiple runs of same gene\n",
    "smf_gene2 = fc_merge.iloc[is_ctrl1].groupby('GENE2').mean(numeric_only = True)\n",
    "\n",
    "\n",
    "smf_guide1 = fc_merge.iloc[is_ctrl2].groupby('GENE1')\n",
    "smf_guide2 = fc_merge.iloc[is_ctrl1].groupby('GENE2')"
   ]
  },
  {
   "cell_type": "code",
   "execution_count": null,
   "id": "90a093b7",
   "metadata": {},
   "outputs": [],
   "source": [
    "smf_gene = smf_gene1.join(smf_gene2, lsuffix='_Aposn', rsuffix='_Bposn')\n",
    "smf_gene # so this dataset has CTRL-GENE as A_549_Bposn and GENE-CTRL a sA_549_APosn\n"
   ]
  },
  {
   "cell_type": "code",
   "execution_count": null,
   "id": "10d61d55",
   "metadata": {},
   "outputs": [],
   "source": [
    "for cell in cells:\n",
    "    f, ax = pyplot.subplots(figsize=(10,5))\n",
    "    sns.scatterplot(data=smf_gene, x=cell + '_Aposn',y=cell + '_Bposn', ax=ax)\n",
    "    plot([-4,1],[-4,1],'r--')\n",
    "    print(cell + ': ' + str( stats.pearsonr( smf_gene[ cell + '_Aposn' ], smf_gene[cell + '_Bposn' ])) ) "
   ]
  },
  {
   "cell_type": "code",
   "execution_count": null,
   "id": "f38dcd64",
   "metadata": {},
   "outputs": [],
   "source": [
    "for cell in cells:\n",
    "    smf_gene[cell] = smf_gene[ [cell + '_Aposn', cell + '_Bposn'] ].mean(1)\n",
    "    smf_gene.drop( [cell + '_Aposn', cell + '_Bposn'], axis=1, inplace=True )\n",
    "    "
   ]
  },
  {
   "cell_type": "code",
   "execution_count": null,
   "id": "30a5242a",
   "metadata": {},
   "outputs": [],
   "source": [
    "pairs = fc_merge[(fc_merge['GENE1'] != \"control\") & (fc_merge['GENE2'] != \"control\")] # These are all experiments without control,\n",
    "pairs =  pairs[[\"GENE1\", \"GENE2\"]]\n",
    "pairs =pairs.drop_duplicates(keep='first')\n",
    "pairs.insert(2, \"GENE1_GENE2\",np.tile(\"ZZ\",len(pairs)), True)\n",
    "\n",
    "\n",
    "\n",
    "pairs.columns\n",
    "for ind in pairs.index:\n",
    "    g1 = pairs.loc[ind, 'GENE1']\n",
    "    g2 = pairs.loc[ind, 'GENE2']\n",
    "    newval = g1 + \"_\" + g2\n",
    "    if g1 > g2:\n",
    "        newval = g2 + \"_\" + g1\n",
    "    pairs.loc[ind,\"GENE1_GENE2\"] = newval\n",
    "\n",
    "\n",
    "pairs.drop_duplicates(subset=\"GENE1_GENE2\", keep=\"first\",inplace = True)\n"
   ]
  },
  {
   "cell_type": "code",
   "execution_count": null,
   "id": "c39c0514",
   "metadata": {},
   "outputs": [],
   "source": [
    "\n",
    "dLFC = pd.DataFrame( index=list(pairs.GENE1 + \"_\" + pairs.GENE2), columns=fc_merge.columns[2:], dtype=float)\n",
    "smf = smf_gene\n",
    "for pair_idx in pairs.index:\n",
    "    g1 = pairs.loc[pair_idx].GENE1\n",
    "    g2 = pairs.loc[pair_idx].GENE2\n",
    "    expt_idx  = list( where( ( (fc_merge.GENE1==g1) & (fc_merge.GENE2==g2) )  | ( (fc_merge.GENE1==g2) & (fc_merge.GENE2==g1)  ))[0] )\n",
    "    \n",
    "    if ( len(expt_idx)==0 ):\n",
    "        continue\n",
    "    smf_sum = smf.loc[g1] + smf.loc[g2]\n",
    "    expt = fc_merge.iloc[ expt_idx ]\n",
    "    genepair = g1 + \"_\" + g2\n",
    "    dLFC.loc[genepair] = expt.median(0,numeric_only=True) - smf_sum\n",
    "dLFC\n"
   ]
  },
  {
   "cell_type": "code",
   "execution_count": null,
   "id": "81bf93be",
   "metadata": {},
   "outputs": [],
   "source": [
    "dLFC['HAP1.T12'].hist(bins=30, figsize=(5,3))\n",
    "xlabel('dLFC')\n",
    "ylabel('Count')"
   ]
  },
  {
   "cell_type": "code",
   "execution_count": null,
   "id": "4f639ed2",
   "metadata": {},
   "outputs": [],
   "source": [
    "dLFC['HAP1.T18'].hist(bins=30, figsize=(5,3))\n",
    "xlabel('dLFC')\n",
    "ylabel('Count')"
   ]
  },
  {
   "cell_type": "code",
   "execution_count": null,
   "id": "8a26a911",
   "metadata": {},
   "outputs": [],
   "source": [
    "zdLFC = pd.DataFrame( index=dLFC.index, columns=dLFC.columns, dtype=float ) \n",
    "percentile =  2.5\n",
    "for col in zdLFC.columns:\n",
    "    #print(col)\n",
    "    top = np.percentile( dLFC.loc[:,col], percentile)\n",
    "    bot = np.percentile( dLFC.loc[:,col], 100-percentile)\n",
    "    #print(top,bot)\n",
    "    mu = dLFC.iloc[ where( (dLFC[col]>top) & (dLFC[col]<bot))[0] ][col].mean() # This is because our dist is truncated normal\n",
    "    std = dLFC.iloc[ where( (dLFC[col]>top) & (dLFC[col]<bot))[0] ][col].std()\n",
    "    #print(mu, std)\n",
    "    zdLFC[col] = (dLFC[col] - mu) / std\n"
   ]
  },
  {
   "cell_type": "code",
   "execution_count": null,
   "id": "b545f5c9",
   "metadata": {},
   "outputs": [],
   "source": [
    "xx = linspace(-10,10,500)\n",
    "kde_HAP1T18 = stats.gaussian_kde( zdLFC['HAP1.T18'] )\n",
    "kde_HAP1T12 = stats.gaussian_kde( zdLFC['HAP1.T12'] )\n",
    "\n",
    "plot( xx, stats.norm.pdf( xx), label='normal', linewidth=4 )\n",
    "plot( xx, kde_HAP1T18.evaluate(xx), label='HAP1.T18')\n",
    "plot( xx, kde_HAP1T12.evaluate(xx), label='HAP1.T12')\n"
   ]
  },
  {
   "cell_type": "code",
   "execution_count": null,
   "id": "684812e5",
   "metadata": {},
   "outputs": [],
   "source": [
    "def reindex_alphbetically(df):\n",
    "    result = []\n",
    "    for index, row in df.iterrows():\n",
    "        a, b = index.split('_')\n",
    "        if a < b:\n",
    "            result.append(f'{a}_{b}')\n",
    "        else:\n",
    "            result.append(f'{b}_{a}')\n",
    "    \n",
    "    \n",
    "    return(result)\n",
    "\n",
    "\n",
    "zdLFC.index = reindex_alphbetically(zdLFC)\n",
    "print(zdLFC)\n",
    "zdLFC.to_csv(\"zdLFC Output/ChymeraHAP1.csv\", index=True)  # Set index=False to exclude the index column\n"
   ]
  }
 ],
 "metadata": {
  "kernelspec": {
   "display_name": "Python 3 (ipykernel)",
   "language": "python",
   "name": "python3"
  },
  "language_info": {
   "codemirror_mode": {
    "name": "ipython",
    "version": 3
   },
   "file_extension": ".py",
   "mimetype": "text/x-python",
   "name": "python",
   "nbconvert_exporter": "python",
   "pygments_lexer": "ipython3",
   "version": "3.10.9"
  }
 },
 "nbformat": 4,
 "nbformat_minor": 5
}
