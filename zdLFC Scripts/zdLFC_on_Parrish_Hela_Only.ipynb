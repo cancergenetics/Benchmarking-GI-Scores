{
 "cells": [
  {
   "cell_type": "markdown",
   "id": "b09c65f5",
   "metadata": {},
   "source": [
    "Original code by Dede et al. (https://figshare.com/articles/software/enCas12a_screen_analysis_pipeline/12275642), licensed under CC BY 4.0\n",
    "https://creativecommons.org/licenses/by/4.0/\n",
    "Modified by Hamda Ajmal, March 2025\n",
    "\n",
    "Changes: Extracted relevant portions of the code and applied them to different datasets."
   ]
  },
  {
   "cell_type": "code",
   "execution_count": null,
   "id": "d4815280",
   "metadata": {},
   "outputs": [],
   "source": [
    "\n",
    "## What am I doing here? I am going to change Parrish plasmids to ETP.\n",
    "\n",
    "%matplotlib inline\n",
    "%pylab inline\n",
    "import pandas as pd\n",
    "import scipy.stats as stats\n",
    "import scipy.cluster.hierarchy as clust\n",
    "import seaborn as sns\n",
    "import matplotlib.pyplot as plt\n",
    "reads = pd.read_csv('../InputData/Parrish\\GSE178179_pgPEN_counts_PC9.txt', index_col=0, sep='\\t')\n"
   ]
  },
  {
   "cell_type": "code",
   "execution_count": null,
   "id": "ec7ce837",
   "metadata": {},
   "outputs": [],
   "source": [
    "reads.columns"
   ]
  },
  {
   "cell_type": "code",
   "execution_count": null,
   "id": "d5da3cf8",
   "metadata": {},
   "outputs": [],
   "source": [
    "reads.drop(['gRNA1_seq', 'gRNA2_seq', 'PC9_plasmid', 'PC9_LTP_RepA', 'PC9_LTP_RepB', 'PC9_LTP_RepC',\n",
    "           'PC9_ETP_RepA', 'PC9_ETP_RepB', 'PC9_ETP_RepC', 'HeLa_plasmid'], axis=1, inplace=True)\n",
    "reads\n"
   ]
  },
  {
   "cell_type": "code",
   "execution_count": null,
   "id": "dde8e484",
   "metadata": {},
   "outputs": [],
   "source": [
    "numGuides, numSamples = reads.shape\n",
    "\n",
    "numGuides, numSamples \n",
    "reads"
   ]
  },
  {
   "cell_type": "code",
   "execution_count": null,
   "id": "ccf0b5d6",
   "metadata": {},
   "outputs": [],
   "source": [
    "sample_sum = reads.iloc[:,range(1,numSamples)].sum(0)\n",
    "highlight_index = 0\n",
    "colors = ['tab:blue'] * len(sample_sum)\n",
    "colors[highlight_index] = 'tab:red'\n",
    "figure( figsize(6,4))\n",
    "barh( arange(len(sample_sum)), sample_sum, align='center', color = colors)\n",
    "#plot( [-0.5, len(sample_sum)-0.5], [numGuides*500, numGuides*500], 'r--')  #This is for the red dashed line, r for red\n",
    "#Format string fmt = '[marker][line][color]' why is this line\n",
    "\n",
    "ylim(-1, len(sample_sum)) # len(sample_sum) = 10\n",
    "yticks(arange(len(sample_sum)), reads.columns.values[1:], rotation=0)\n",
    "\n",
    "show()\n"
   ]
  },
  {
   "cell_type": "code",
   "execution_count": null,
   "id": "4d3239c6",
   "metadata": {},
   "outputs": [],
   "source": [
    "pseudo=5\n",
    "\n",
    "reads[ reads.columns[1:]] = reads[ reads.columns[1:]] + pseudo\n",
    "#reads.head()"
   ]
  },
  {
   "cell_type": "code",
   "execution_count": null,
   "id": "c8c07274",
   "metadata": {},
   "outputs": [],
   "source": [
    "meanReads = reads.iloc[:,range(1,numSamples)].mean(0) # colmean\n",
    "meanReads"
   ]
  },
  {
   "cell_type": "code",
   "execution_count": null,
   "id": "6e7d133e",
   "metadata": {},
   "outputs": [],
   "source": [
    "# also remove double control \"pgRNAs. Five hundred double non-targeting pgRNAs were included as a control\"\n",
    "filtered_reads = reads[reads['paralog_pair'].str.contains('^NTpg.*\\|NA$')].index\n",
    "filtered_reads.shape\n",
    "filtered_reads"
   ]
  },
  {
   "cell_type": "code",
   "execution_count": null,
   "id": "dae5b9fb",
   "metadata": {},
   "outputs": [],
   "source": [
    "#reads['paralog_pair'].str.contains('^NTpg.*\\|NA$')\n",
    "reads.drop(filtered_reads, axis = 0, inplace = True)\n",
    "reads"
   ]
  },
  {
   "cell_type": "code",
   "execution_count": null,
   "id": "29e48ea4",
   "metadata": {},
   "outputs": [],
   "source": [
    "numGuides, numSamples = reads.shape\n",
    "\n",
    "numGuides, numSamples "
   ]
  },
  {
   "cell_type": "code",
   "execution_count": null,
   "id": "af940555",
   "metadata": {},
   "outputs": [],
   "source": [
    "normed = pd.DataFrame(index=reads.index, columns=reads.columns) # empty data frame\n",
    "normed['paralog_pair'] = reads.iloc[:, 0]\n",
    "normed.rename(columns={\"paralog_pair\": \"GENE\"}, inplace = True)\n",
    "normed\n",
    "#pseudo has already been added to reads\n",
    "#The numpy.tile() function constructs a new array by repeating array – ‘arr’, \n",
    "#the number of times we want to repeat as per repetitions. \n",
    "#The resulted array will have dimensions max(arr.ndim, repetitions) where, \n",
    "#repetitions is the length of repetitions. If arr.ndim > repetitions,\n",
    "#reps is promoted to arr.ndim by pre-pending 1’s to it.\n",
    "#If arr.ndim < repetitions, reps is promoted to arr.ndim by pre-pending new axis. Syntax : \n",
    "normed[ normed.columns[1:] ] =   (reads.iloc[:, range(1, numSamples)] ) / np.tile(meanReads.values, [numGuides, 1]) * 500  # normalize to mean 500 read\n",
    "normed.head()\n"
   ]
  },
  {
   "cell_type": "code",
   "execution_count": null,
   "id": "fb86f6c8",
   "metadata": {},
   "outputs": [],
   "source": [
    "fc = pd.DataFrame(index=reads.index, columns=reads.columns[[2,3,4]]) # non-normalised\n",
    "fc['GENE'] = reads['paralog_pair']  # first column is gene name\n",
    "fc\n",
    "#fc.shape # share is for dimensions - nice\n",
    "numFCsamples = fc.shape[1]-1   # number of columns for which to calculate FC\n",
    "numFCsamples\n",
    "#fc.head()\n",
    "pseudo = 0 # remmeber pseudocount is already in the data \n",
    "fc.head()\n",
    "## rearrane here \n",
    "cols = ['GENE' ,'HeLa_LTP_RepA' ,'HeLa_LTP_RepB' ,'HeLa_LTP_RepC']\n",
    "fc = fc[cols]\n",
    "fc\n",
    "\n",
    "## VERY IMPORTANT TO REARRANGE NORMED HERE\n",
    "cols = ['GENE', 'HeLa_LTP_RepA', 'HeLa_LTP_RepB', 'HeLa_LTP_RepC', 'HeLa_ETP']\n",
    "normed = normed[cols]\n",
    "\n",
    "fc[ fc.columns[1:] ] = log2( (normed[ normed.columns[1:-1]] + pseudo) / np.tile( normed[ normed.columns[-1]] + pseudo , [numFCsamples, 1]).T )\n",
    "fc"
   ]
  },
  {
   "cell_type": "code",
   "execution_count": null,
   "id": "027692ce",
   "metadata": {},
   "outputs": [],
   "source": [
    "## Anything with nt  is control in this study\n",
    "fc_base = pd.DataFrame(index=fc.index, columns=fc.columns) # non-normalised\n",
    "fc_base.iloc[:] = fc.iloc[:]\n",
    "fc_base\n",
    "fc_base[['GENE1', 'GENE2']] = fc_base.GENE.str.split(\"|\", expand = True)\n",
    "fc_base.drop(['GENE'], inplace = True,axis=1)\n",
    "fc_base\n",
    "fc_base.loc[fc_base['GENE1'].str.contains('^nt[0-8]{1}'),'GENE1'] = 'control'\n",
    "fc_base.loc[fc_base['GENE2'].str.contains('^nt[0-8]{1}'),'GENE2'] = 'control'\n",
    "\n",
    "fc_base"
   ]
  },
  {
   "cell_type": "code",
   "execution_count": null,
   "id": "95eb0ff8",
   "metadata": {},
   "outputs": [],
   "source": [
    "cells = list([ 'HeLa'])\n",
    "cols = list(['GENE1']) + list( ['GENE2']) + cells\n",
    "cols\n",
    "fc_merge = pd.DataFrame( columns=cols, index=fc_base.index, dtype=float)\n",
    "fc_merge.GENE1 = fc_base.GENE1\n",
    "fc_merge.GENE2 = fc_base.GENE2\n",
    "\n",
    "for cell in cells:\n",
    "    samples = [x for x in fc_base.columns if cell in x]\n",
    "    fc_merge[cell] = fc[ samples ].mean(1)\n",
    "\n",
    "fc_merge"
   ]
  },
  {
   "cell_type": "code",
   "execution_count": null,
   "id": "310d404d",
   "metadata": {},
   "outputs": [],
   "source": [
    "is_ctrl = where( (fc_merge.GENE1=='control') | (fc_merge.GENE2=='control') )[0]\n",
    "\n",
    "is_ctrl1 = where( fc_merge.GENE1=='control' )[0]\n",
    "is_ctrl2 = where( fc_merge.GENE2=='control' )[0]\n",
    "\n",
    "\n",
    "smf_gene1 = fc_merge.iloc[is_ctrl2].groupby('GENE1').mean(numeric_only = True) # calculate means of multiple runs of same gene\n",
    "smf_gene2 = fc_merge.iloc[is_ctrl1].groupby('GENE2').mean(numeric_only = True)\n",
    "\n",
    "\n",
    "smf_guide1 = fc_merge.iloc[is_ctrl2].groupby('GENE1')\n",
    "smf_guide2 = fc_merge.iloc[is_ctrl1].groupby('GENE2')"
   ]
  },
  {
   "cell_type": "code",
   "execution_count": null,
   "id": "a2de34cb",
   "metadata": {},
   "outputs": [],
   "source": [
    "smf_gene = pd.concat([smf_gene1, smf_gene2], ignore_index=False)#smf_gene = smf_gene1.join(smf_gene2, lsuffix='_Aposn', rsuffix='_Bposn')\n",
    "smf_gene# mean of same gene-control pair has already been calculated"
   ]
  },
  {
   "cell_type": "code",
   "execution_count": null,
   "id": "2d1bfd2f",
   "metadata": {},
   "outputs": [],
   "source": [
    "pairs = fc_merge[(fc_merge['GENE1'] != \"control\") & (fc_merge['GENE2'] != \"control\")] # These are all experiments without control,\n",
    "pairs =  pairs[[\"GENE1\", \"GENE2\"]]\n",
    "pairs =pairs.drop_duplicates(keep='first')\n",
    "pairs.insert(2, \"GENE1_GENE2\",np.tile(\"ZZ\",len(pairs)), True)\n",
    "pairs\n",
    "pairs.columns\n",
    "for ind in pairs.index:\n",
    "    g1 = pairs.loc[ind, 'GENE1']\n",
    "    g2 = pairs.loc[ind, 'GENE2']\n",
    "    newval = g1 + \"_\" + g2\n",
    "    if g1 > g2:\n",
    "        newval = g2 + \"_\" + g1\n",
    "    pairs.loc[ind,\"GENE1_GENE2\"] = newval\n",
    "#    print(g1_g2)\n",
    "#print(pairs.columns)\n",
    "   \n",
    "pairs\n",
    "pairs.drop_duplicates(subset=\"GENE1_GENE2\", keep=\"first\",inplace = True)\n",
    "print(len(pairs)) # From Paper: we here report our direct experimental evaluation of GIs among 1,030 paralog pairs (2,060 genes) in two human cell contexts."
   ]
  },
  {
   "cell_type": "code",
   "execution_count": null,
   "id": "77ea8385",
   "metadata": {},
   "outputs": [],
   "source": [
    "dLFC = pd.DataFrame( index=list(pairs.GENE1 + \"_\" + pairs.GENE2), columns=fc_merge.columns[2:], dtype=float)\n",
    "dLFC"
   ]
  },
  {
   "cell_type": "code",
   "execution_count": null,
   "id": "68c2b472",
   "metadata": {},
   "outputs": [],
   "source": [
    "smf = smf_gene\n",
    "for pair_idx in pairs.index:\n",
    "    g1 = pairs.loc[pair_idx].GENE1\n",
    "    g2 = pairs.loc[pair_idx].GENE2\n",
    "    expt_idx  = list( where( ( (fc_merge.GENE1==g1) & (fc_merge.GENE2==g2) )  | ( (fc_merge.GENE1==g2) & (fc_merge.GENE2==g1)  ))[0] )\n",
    "    \n",
    "    if ( len(expt_idx)==0 ):\n",
    "        continue\n",
    "    smf_sum = smf.loc[g1] + smf.loc[g2]\n",
    "    expt = fc_merge.iloc[ expt_idx ]\n",
    "    genepair = g1 + \"_\" + g2\n",
    "    dLFC.loc[genepair] = expt.median(0,numeric_only=True) - smf_sum"
   ]
  },
  {
   "cell_type": "code",
   "execution_count": null,
   "id": "64d1571f",
   "metadata": {},
   "outputs": [],
   "source": [
    "zdLFC = pd.DataFrame( index=dLFC.index, columns=dLFC.columns, dtype=float ) \n",
    "zdLFC.head()\n",
    "percentile = 2.5\n",
    "for col in zdLFC.columns:\n",
    "    #print(col)\n",
    "    top = np.percentile( dLFC.loc[:,col], percentile)\n",
    "    bot = np.percentile( dLFC.loc[:,col], 100-percentile)\n",
    "    #print(top,bot)\n",
    "    mu = dLFC.iloc[ where( (dLFC[col]>top) & (dLFC[col]<bot))[0] ][col].mean() # This is because our dist is truncated normal\n",
    "    std = dLFC.iloc[ where( (dLFC[col]>top) & (dLFC[col]<bot))[0] ][col].std()\n",
    "    #print(mu, std)\n",
    "    zdLFC[col] = (dLFC[col] - mu) / std"
   ]
  },
  {
   "cell_type": "code",
   "execution_count": null,
   "id": "a74a2596",
   "metadata": {},
   "outputs": [],
   "source": [
    "xx = linspace(-10,10,500)\n",
    "kde_HeLa = stats.gaussian_kde( zdLFC.HeLa )\n",
    "figure( figsize(5,4) )\n",
    "plot( xx, stats.norm.pdf( xx), label='normal', linewidth=4 )\n",
    "plot( xx, kde_HeLa.evaluate(xx), label='HeLa')\n",
    "\n",
    "legend(loc=2)\n",
    "#savefig('normfit-of-zdLFC.pdf')\n",
    "show()\n"
   ]
  },
  {
   "cell_type": "code",
   "execution_count": null,
   "id": "a60bcf38",
   "metadata": {},
   "outputs": [],
   "source": [
    "def reindex_alphbetically(df):\n",
    "    result = []\n",
    "    for index, row in df.iterrows():\n",
    "        a, b = index.split('_')\n",
    "        if a < b:\n",
    "            result.append(f'{a}_{b}')\n",
    "        else:\n",
    "            result.append(f'{b}_{a}')\n",
    "    \n",
    "    \n",
    "    return(result)\n",
    "\n",
    "\n",
    "zdLFC.index = reindex_alphbetically(zdLFC)\n",
    "zdLFC.to_csv(\"zdLFC Output/Parrish_Hela.csv\", index=True)  # Set index=False to exclude the index column"
   ]
  }
 ],
 "metadata": {
  "kernelspec": {
   "display_name": "Python 3 (ipykernel)",
   "language": "python",
   "name": "python3"
  },
  "language_info": {
   "codemirror_mode": {
    "name": "ipython",
    "version": 3
   },
   "file_extension": ".py",
   "mimetype": "text/x-python",
   "name": "python",
   "nbconvert_exporter": "python",
   "pygments_lexer": "ipython3",
   "version": "3.10.9"
  }
 },
 "nbformat": 4,
 "nbformat_minor": 5
}
