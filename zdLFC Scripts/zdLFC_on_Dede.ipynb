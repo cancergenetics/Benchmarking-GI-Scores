{
 "cells": [
  {
   "cell_type": "markdown",
   "id": "f51f5080",
   "metadata": {},
   "source": [
    "Original code by Dede et al. (https://figshare.com/articles/software/enCas12a_screen_analysis_pipeline/12275642), licensed under CC BY 4.0\n",
    "https://creativecommons.org/licenses/by/4.0/\n",
    "Modified by Hamda Ajmal, March 2025\n",
    "\n",
    "Changes: Extracted relevant portions of the code and applied them to different datasets."
   ]
  },
  {
   "cell_type": "code",
   "execution_count": null,
   "id": "fec33608",
   "metadata": {},
   "outputs": [],
   "source": [
    "%matplotlib inline\n",
    "import pandas as pd\n",
    "import scipy.stats as stats\n",
    "import scipy.cluster.hierarchy as clust\n",
    "import seaborn as sns\n",
    "import matplotlib.pyplot as plt"
   ]
  },
  {
   "cell_type": "code",
   "execution_count": null,
   "id": "add0a995",
   "metadata": {},
   "outputs": [],
   "source": [
    "reads = pd.read_csv('../InputData/Dede/counts.txt', index_col=0, sep='\\t')\n",
    "reads.head()\n"
   ]
  },
  {
   "cell_type": "code",
   "execution_count": null,
   "id": "61312fe7",
   "metadata": {},
   "outputs": [],
   "source": [
    "%pylab inline\n",
    "numGuides, numSamples = reads.shape\n",
    "# 12328 rows = numGuides and numSamples = 11 columns\n",
    "sample_sum = reads.iloc[:,range(1,numSamples)].sum(0)\n",
    "\n",
    "figure( figsize(6,3))\n",
    "bar( arange(len(sample_sum)), sample_sum, align='center')\n",
    "plot( [-0.5, len(sample_sum)-0.5], [numGuides*500, numGuides*500], 'r--')  #This is for the red dashed line, r for red\n",
    "#Format string fmt = '[marker][line][color]' why is this line\n",
    "\n",
    "xlim(-1, len(sample_sum)) # len(sample_sum) = 10\n",
    "xticks(arange(len(sample_sum)), reads.columns.values[1:], rotation=90)\n",
    "\n",
    "show()"
   ]
  },
  {
   "cell_type": "code",
   "execution_count": null,
   "id": "071244b5",
   "metadata": {},
   "outputs": [],
   "source": [
    "pseudo=5\n",
    "reads[ reads.columns[1:]] = reads[ reads.columns[1:]] + pseudo\n"
   ]
  },
  {
   "cell_type": "code",
   "execution_count": null,
   "id": "22d3919b",
   "metadata": {},
   "outputs": [],
   "source": [
    "reads"
   ]
  },
  {
   "cell_type": "code",
   "execution_count": null,
   "id": "6bea0a9b",
   "metadata": {},
   "outputs": [],
   "source": [
    "meanReads = reads.iloc[:,range(1,numSamples)].mean(0) # colmean\n",
    "meanReads"
   ]
  },
  {
   "cell_type": "code",
   "execution_count": null,
   "id": "7366982b",
   "metadata": {},
   "outputs": [],
   "source": [
    "normed = pd.DataFrame(index=reads.index, columns=reads.columns) # empty data frame\n",
    "normed['GENE'] = reads.iloc[:, 0]\n",
    "#pseudo has already been added to reads\n",
    "#The numpy.tile() function constructs a new array by repeating array – ‘arr’, \n",
    "#the number of times we want to repeat as per repetitions. \n",
    "#The resulted array will have dimensions max(arr.ndim, repetitions) where, \n",
    "#repetitions is the length of repetitions. If arr.ndim > repetitions,\n",
    "#reps is promoted to arr.ndim by pre-pending 1’s to it.\n",
    "#\n",
    "#If arr.ndim < repetitions, reps is promoted to arr.ndim by pre-pending new axis. Syntax : \n",
    "normed[ normed.columns[1:] ] =   (reads.iloc[:, range(1, numSamples)] ) / np.tile(meanReads.values, [numGuides, 1]) * 500  # normalize to mean 500 read\n",
    "normed.shape\n"
   ]
  },
  {
   "cell_type": "code",
   "execution_count": null,
   "id": "fa49454c",
   "metadata": {},
   "outputs": [],
   "source": [
    "fc = pd.DataFrame(index=reads.index, columns=reads.columns[:-1]) # non-normalised\n",
    "fc['GENE'] = reads.iloc[:, 0]  # first column is gene name\n",
    "\n",
    "numFCsamples = fc.shape[1]-1   # number of columns for which to calculate FC\n",
    "numFCsamples\n",
    "\n",
    "pseudo = 0 # remmeber pseudocount is already in the data \n",
    "\n",
    "# calculation fc wrt to last column, fc of each cell line/replicate wrt to sample at t0\n",
    "fc[ fc.columns[1:] ] = log2( (normed[ normed.columns[1:-1]] + pseudo) / np.tile( normed[ normed.columns[-1]] + pseudo , [numFCsamples, 1]).T )\n"
   ]
  },
  {
   "cell_type": "code",
   "execution_count": null,
   "id": "5c17f210",
   "metadata": {},
   "outputs": [],
   "source": [
    "genelist = {}\n",
    "for idx in fc.index.values:\n",
    "    g1cid, g2cid = fc.loc[idx]['GENE'].split(':')\n",
    "    g1, cid1 = g1cid.split('.')\n",
    "    g2, cid2 = g2cid.split('.')\n",
    "    genelist[g1]=1\n",
    "    genelist[g2]=1\n",
    "    fc.loc[idx,'GENE1']=g1\n",
    "    fc.loc[idx,'GENE2']=g2\n",
    "    \n",
    "fc"
   ]
  },
  {
   "cell_type": "code",
   "execution_count": null,
   "id": "dde0906f",
   "metadata": {},
   "outputs": [],
   "source": [
    "noness = pd.read_csv('../InputData/Dede/pan-species-control-nonessentials-50genes.txt', sep='\\t', index_col=0)\n",
    "noness.head()"
   ]
  },
  {
   "cell_type": "code",
   "execution_count": null,
   "id": "7d3b5850",
   "metadata": {},
   "outputs": [],
   "source": [
    "fc_base = fc\n",
    "# So whereever a non essential is used, replace it with CTRL\n",
    "fc_base.loc[ fc_base['GENE1'].isin(noness.index), 'GENE1' ] = 'CTRL'\n",
    "fc_base.loc[ fc_base['GENE2'].isin(noness.index), 'GENE2' ] = 'CTRL'\n",
    "fc_base.head()"
   ]
  },
  {
   "cell_type": "code",
   "execution_count": null,
   "id": "fdbfcc8d",
   "metadata": {},
   "outputs": [],
   "source": [
    "cells = list(['A549','HT29','OVCAR8'])\n",
    "cols = list(['GENE']) + cells\n",
    "fc_merge = pd.DataFrame( columns=cols, index=fc.index, dtype=float)\n",
    "fc_merge.GENE = fc.GENE\n",
    "for cell in cells:\n",
    "    samples = [x for x in fc.columns if cell in x]\n",
    "    fc_merge[cell] = fc[ samples ].mean(1)\n",
    "fc_merge['GENE1'] = fc.GENE1\n",
    "fc_merge['GENE2'] = fc.GENE2\n",
    "fc_merge.head()\n"
   ]
  },
  {
   "cell_type": "code",
   "execution_count": null,
   "id": "2c30b0b5",
   "metadata": {},
   "outputs": [],
   "source": [
    "# Get SMF for each gene (gene-CTRL pairs)\n",
    "is_ctrl = where( (fc_merge.GENE1=='CTRL') | (fc_merge.GENE2=='CTRL') )[0]\n",
    "len(is_ctrl) # 5124 screens with CTRLs used  so we used them to measure SMF of each gene\n",
    "fc_merge.iloc[is_ctrl].head()\n",
    "is_ctrl1 = where( fc_merge.GENE1=='CTRL' )[0]\n",
    "is_ctrl2 = where( fc_merge.GENE2=='CTRL' )[0]\n"
   ]
  },
  {
   "cell_type": "code",
   "execution_count": null,
   "id": "2d693013",
   "metadata": {},
   "outputs": [],
   "source": [
    "smf_gene1 = fc_merge.iloc[is_ctrl2].groupby('GENE1').mean(numeric_only = True) # calculate means of multiple runs of same gene\n",
    "smf_gene2 = fc_merge.iloc[is_ctrl1].groupby('GENE2').mean(numeric_only = True)\n",
    "smf_gene1"
   ]
  },
  {
   "cell_type": "code",
   "execution_count": null,
   "id": "3be44bc8",
   "metadata": {},
   "outputs": [],
   "source": [
    "smf_guide1 = fc_merge.iloc[is_ctrl2].groupby('GENE1')\n",
    "smf_guide1.head()\n",
    "smf_guide2 = fc_merge.iloc[is_ctrl1].groupby('GENE2')\n",
    "\n",
    "smf_gene1"
   ]
  },
  {
   "cell_type": "code",
   "execution_count": null,
   "id": "997485b9",
   "metadata": {},
   "outputs": [],
   "source": [
    "smf_gene = smf_gene1.join(smf_gene2, lsuffix='_Aposn', rsuffix='_Bposn')\n",
    "smf_gene # so this dataset has CTRL-GENE as A_549_Bposn and GENE-CTRL a sA_549_APosn"
   ]
  },
  {
   "cell_type": "code",
   "execution_count": null,
   "id": "904490bb",
   "metadata": {},
   "outputs": [],
   "source": [
    "for cell in cells:\n",
    "    f, ax = pyplot.subplots(figsize=(5,5))\n",
    "    sns.scatterplot(data=smf_gene, x=cell + '_Aposn',y=cell + '_Bposn', ax=ax)\n",
    "    plot([-4,1],[-4,1],'r--')\n",
    "    print(cell + ': ' + str( stats.pearsonr( smf_gene[ cell + '_Aposn' ], smf_gene[cell + '_Bposn' ])) ) "
   ]
  },
  {
   "cell_type": "code",
   "execution_count": null,
   "id": "43875bdd",
   "metadata": {},
   "outputs": [],
   "source": [
    "# A_posn and B_posn of each gene is averaged\n",
    "for cell in cells:\n",
    "    smf_gene[cell] = smf_gene[ [cell + '_Aposn', cell + '_Bposn'] ].mean(1)\n",
    "    smf_gene.drop( [cell + '_Aposn', cell + '_Bposn'], axis=1, inplace=True )\n",
    "    \n",
    "smf_gene\n"
   ]
  },
  {
   "cell_type": "code",
   "execution_count": null,
   "id": "dec99de2",
   "metadata": {},
   "outputs": [],
   "source": [
    "pairs = fc_merge[(fc_merge['GENE1'] != \"CTRL\") & (fc_merge['GENE2'] != \"CTRL\")] # These are all experiments without control,\n",
    "pairs =  pairs[[\"GENE1\", \"GENE2\"]]\n",
    "pairs =pairs.drop_duplicates(keep='first')\n",
    "pairs.insert(2, \"GENE1_GENE2\",np.tile(\"ZZ\",len(pairs)), True)\n",
    "\n",
    "\n",
    "\n",
    "pairs.columns\n",
    "for ind in pairs.index:\n",
    "    g1 = pairs.loc[ind, 'GENE1']\n",
    "    g2 = pairs.loc[ind, 'GENE2']\n",
    "    newval = g1 + \"_\" + g2\n",
    "    if g1 > g2:\n",
    "        newval = g2 + \"_\" + g1\n",
    "    pairs.loc[ind,\"GENE1_GENE2\"] = newval\n",
    "#    print(g1_g2)\n",
    "#print(pairs.columns)\n",
    "   \n",
    "pairs\n",
    "print(len(pairs))\n",
    "pairs.drop_duplicates(subset=\"GENE1_GENE2\", keep=\"first\",inplace = True)\n",
    "print(len(pairs))\n",
    "pairs"
   ]
  },
  {
   "cell_type": "code",
   "execution_count": null,
   "id": "0c246921",
   "metadata": {},
   "outputs": [],
   "source": [
    "dLFC = pd.DataFrame( index=list(pairs.GENE1 + \"_\" + pairs.GENE2), columns=fc_merge.columns[:-2], dtype=float)\n",
    "dLFC.head(3)\n",
    "dLFC.drop('GENE', inplace = True, axis = 1)\n",
    "dLFC"
   ]
  },
  {
   "cell_type": "code",
   "execution_count": null,
   "id": "bcaf5b46",
   "metadata": {},
   "outputs": [],
   "source": [
    "fc = fc_merge\n",
    "for pair_idx in pairs.index:\n",
    "    g1 = pairs.loc[pair_idx].GENE1\n",
    "    g2 = pairs.loc[pair_idx].GENE2\n",
    "    expt_idx  = list( where( ( (fc.GENE1==g1) & (fc.GENE2==g2) ) | ( (fc.GENE1==g2) & (fc.GENE2==g1) )  )[0] )\n",
    "    if ( len(expt_idx)==0 ):\n",
    "        continue\n",
    "    smf_sum = smf_gene.loc[g1] + smf_gene.loc[g2]\n",
    "    expt = fc.iloc[ expt_idx ]\n",
    "    genepair = g1 + \"_\" + g2\n",
    "    dLFC.loc[genepair] = expt.median(0, numeric_only=True) - smf_sum"
   ]
  },
  {
   "cell_type": "code",
   "execution_count": null,
   "id": "06da0b7f",
   "metadata": {},
   "outputs": [],
   "source": [
    "print(len(dLFC)) # 2 pairs not present here # All pairs were not listed in the file given by authors\n",
    "dropme = where( isnan( dLFC.A549) )[0]\n",
    "dropme\n",
    "dLFC.drop( dLFC.index[dropme], axis=0, inplace=True)\n",
    "print(len(dLFC)) # 2 pairs not present here\n"
   ]
  },
  {
   "cell_type": "code",
   "execution_count": null,
   "id": "3afd23b1",
   "metadata": {},
   "outputs": [],
   "source": [
    "zdLFC = pd.DataFrame( index=dLFC.index, columns=dLFC.columns, dtype=float ) \n",
    "zdLFC.head()"
   ]
  },
  {
   "cell_type": "code",
   "execution_count": null,
   "id": "35c913c9",
   "metadata": {},
   "outputs": [],
   "source": [
    "#To compare across screens, convert dLFC scores to a Z score, zdLFC, by truncating\n",
    "#the top and bottom 2.5% of dLFC scores. At a zdLFC score < − 3, all three\n",
    "#screens showed high concordance, with 19 of 24 (79%) synthetic lethals present in at\n",
    "#least two out of three cell lines and 14 of 24 (58%) present in all three (Fig. 4a, b)\n",
    "\n",
    "#Z-transformation of distribution of dLFC (zdLFC) after truncating top/bottom 2.5%\n",
    "#of values approximates a normal distribution.\n",
    "\n",
    "percentile = 2.5\n",
    "for col in zdLFC.columns:\n",
    "    #print(col)\n",
    "    top = np.percentile( dLFC.loc[:,col], percentile)\n",
    "    bot = np.percentile( dLFC.loc[:,col], 100-percentile)\n",
    "    #print(top,bot)\n",
    "    mu = dLFC.iloc[ where( (dLFC[col]>top) & (dLFC[col]<bot))[0] ][col].mean() # This is because our dist is truncated normal\n",
    "    std = dLFC.iloc[ where( (dLFC[col]>top) & (dLFC[col]<bot))[0] ][col].std()\n",
    "    #print(mu, std)\n",
    "    zdLFC[col] = (dLFC[col] - mu) / std"
   ]
  },
  {
   "cell_type": "code",
   "execution_count": null,
   "id": "794bdef1",
   "metadata": {},
   "outputs": [],
   "source": [
    "zdLFC"
   ]
  },
  {
   "cell_type": "code",
   "execution_count": null,
   "id": "6feed83f",
   "metadata": {},
   "outputs": [],
   "source": [
    "## Representation of a kernel-density estimate using Gaussian kernels.Kernel density estimation is a way to estimate\n",
    "# the probability density function (PDF) of a random variable in a non-parametric way. gaussian_kde works for both \n",
    "# uni-variate and multi-variate data. It includes automatic bandwidth determination. The estimation works best for\n",
    "# a unimodal distribution; bimodal or multi-modal distributions tend to be oversmoothed.\n",
    "xx = linspace(-10,10,500)\n",
    "kde_a549 = stats.gaussian_kde( zdLFC.A549 )\n",
    "kde_ht29 = stats.gaussian_kde( zdLFC.HT29 )\n",
    "kde_ovcar8 = stats.gaussian_kde( zdLFC.OVCAR8 )\n",
    "figure( figsize(5,4) )\n",
    "plot( xx, stats.norm.pdf( xx), label='normal', linewidth=4 )\n",
    "plot( xx, kde_a549.evaluate(xx), label='A549')\n",
    "plot( xx, kde_ht29.evaluate(xx), label='HT29' )\n",
    "plot( xx, kde_ovcar8.evaluate(xx), label='OVCAR8' )\n",
    "\n",
    "legend(loc=2)\n",
    "#savefig('normfit-of-zdLFC.pdf')\n",
    "show()\n"
   ]
  },
  {
   "cell_type": "code",
   "execution_count": null,
   "id": "da4a8ed5",
   "metadata": {},
   "outputs": [],
   "source": [
    "kde_a549_dlfc = stats.gaussian_kde( dLFC.A549 )\n",
    "\n",
    "figure( figsize(5,4) )\n",
    "plot( xx, stats.norm.pdf( xx), label='normal', linewidth=4 )\n",
    "plot( xx, kde_a549.evaluate(xx), label='A549')\n",
    "plot( xx, kde_a549_dlfc.evaluate(xx), label='A549-Before Z transformation' )\n",
    "\n",
    "legend(loc=2)\n",
    "#savefig('normfit-of-zdLFC.pdf')\n",
    "show()"
   ]
  },
  {
   "cell_type": "code",
   "execution_count": null,
   "id": "97d0f947",
   "metadata": {},
   "outputs": [],
   "source": [
    "def reindex_alphbetically(df):\n",
    "    result = []\n",
    "    for index, row in df.iterrows():\n",
    "        a, b = index.split('_')\n",
    "        if a < b:\n",
    "            result.append(f'{a}_{b}')\n",
    "        else:\n",
    "            result.append(f'{b}_{a}')\n",
    "    \n",
    "    \n",
    "    return(result)\n",
    "\n",
    "\n",
    "zdLFC.index = reindex_alphbetically(zdLFC)\n",
    "print(zdLFC)\n",
    "zdLFC.to_csv(\"zdLFC Output/DeDe_zdLFC.csv\", index=True)  # Set index=False to exclude the index column\n"
   ]
  }
 ],
 "metadata": {
  "kernelspec": {
   "display_name": "Python 3",
   "language": "python",
   "name": "python3"
  },
  "language_info": {
   "codemirror_mode": {
    "name": "ipython",
    "version": 3
   },
   "file_extension": ".py",
   "mimetype": "text/x-python",
   "name": "python",
   "nbconvert_exporter": "python",
   "pygments_lexer": "ipython3",
   "version": "3.11.9"
  }
 },
 "nbformat": 4,
 "nbformat_minor": 5
}
