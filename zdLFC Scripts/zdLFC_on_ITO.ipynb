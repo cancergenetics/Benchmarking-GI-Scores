{
 "cells": [
  {
   "cell_type": "markdown",
   "id": "b95c28be",
   "metadata": {},
   "source": [
    "Original code by Dede et al. (https://figshare.com/articles/software/enCas12a_screen_analysis_pipeline/12275642), licensed under CC BY 4.0\n",
    "https://creativecommons.org/licenses/by/4.0/\n",
    "Modified by Hamda Ajmal, March 2025\n",
    "\n",
    "Changes: Extracted relevant portions of the code and applied them to different datasets."
   ]
  },
  {
   "cell_type": "code",
   "execution_count": null,
   "id": "cdc8237b",
   "metadata": {},
   "outputs": [],
   "source": [
    "%matplotlib inline\n",
    "\n",
    "#%pylab inline\n",
    "import pandas as pd\n",
    "import scipy.stats as stats\n",
    "import scipy.cluster.hierarchy as clust\n",
    "import seaborn as sns\n",
    "import matplotlib.pyplot as plt\n"
   ]
  },
  {
   "cell_type": "code",
   "execution_count": null,
   "id": "f92952bb",
   "metadata": {},
   "outputs": [],
   "source": [
    "# Now read ITO file\n",
    "reads = pd.read_excel('../InputData/Ito/Count_data_ParalogV1.xlsx')\n",
    "reads = reads.set_index('Left-sgRNA_Right-sgRNA')\n",
    "reads.columns"
   ]
  },
  {
   "cell_type": "code",
   "execution_count": null,
   "id": "edaae7cb",
   "metadata": {},
   "outputs": [],
   "source": [
    "numGuides, numSamples = reads.shape\n",
    "\n",
    "sample_sum = reads.iloc[:,range(2,numSamples)].sum(0)\n"
   ]
  },
  {
   "cell_type": "code",
   "execution_count": null,
   "id": "2715da17",
   "metadata": {},
   "outputs": [],
   "source": [
    "from matplotlib import pyplot\n",
    "%pylab inline\n",
    "#import numpy as np\n",
    "#import matplotlib.pyplot\n",
    "\n",
    "\n",
    "figure(figsize(6,8))\n",
    "highlight_index = 0\n",
    "colors = ['tab:blue'] * len(sample_sum)\n",
    "colors[highlight_index] = 'tab:red'\n",
    "\n",
    "barh( arange(len(sample_sum)), sample_sum, align='center', color = colors)\n",
    "\n",
    "# Create the bar chart\n",
    "\n",
    "ylim(-1, len(sample_sum)) # len(sample_sum) = 10\n",
    "yticks(arange(len(sample_sum)), reads.columns.values[2:], rotation=0)\n",
    "\n",
    "show()"
   ]
  },
  {
   "cell_type": "code",
   "execution_count": null,
   "id": "bdfc0d08",
   "metadata": {},
   "outputs": [],
   "source": [
    "#min(reads.min(axis = 1))\n",
    "pseudo=5\n",
    "reads.head()\n",
    "reads[ reads.columns[2:]] = reads[ reads.columns[2:]] + pseudo\n",
    "reads.head()\n"
   ]
  },
  {
   "cell_type": "code",
   "execution_count": null,
   "id": "65d3f6ff",
   "metadata": {},
   "outputs": [],
   "source": [
    "meanReads = reads.iloc[:,range(2,numSamples)].mean(0) # colmean\n",
    "#meanReads\n"
   ]
  },
  {
   "cell_type": "code",
   "execution_count": null,
   "id": "202c09bb",
   "metadata": {},
   "outputs": [],
   "source": [
    "normed = pd.DataFrame(index=reads.index, columns=reads.columns) # empty data frame\n",
    "normed['Aureus_gene'] = reads.loc[:, 'Aureus_gene']\n",
    "normed['Pyogenes_gene'] = reads.loc[:, 'Pyogenes_gene']\n",
    "normed.head()\n",
    "#each replcate has been normalised using its own mean read count\n",
    "normed[ normed.columns[2:] ] =   (reads.iloc[:, range(2, numSamples)] ) / np.tile(meanReads.values, [numGuides, 1]) * 500  # normalize to mean 500 read\n"
   ]
  },
  {
   "cell_type": "code",
   "execution_count": null,
   "id": "48486b60",
   "metadata": {},
   "outputs": [],
   "source": [
    "fc = pd.DataFrame(index=reads.index, columns=reads.columns[reads.columns != 'pDNA']) # non-normalised\n",
    "fc['Aureus_gene'] = reads.iloc[:, 0]  # first column is gene name\n",
    "fc['Pyogenes_gene'] = reads.iloc[:, 1] \n",
    "#fc.head()\n",
    "numFCsamples = fc.shape[1]-2  # number of columns for which to calculate FC\n",
    "numFCsamples\n",
    "\n",
    "fc.head()\n",
    "fc[ fc.columns[2:] ] = log2( (normed[ normed.columns[3:]]) / np.tile( normed[ normed.columns[2]], [numFCsamples, 1]).T )\n",
    "fc.head()\n"
   ]
  },
  {
   "cell_type": "code",
   "execution_count": null,
   "id": "eaf7dbe3",
   "metadata": {},
   "outputs": [],
   "source": [
    "## AAVS1 is control in this study\n",
    "fc_base = pd.DataFrame(index=fc.index, columns=fc.columns) # non-normalised\n",
    "fc_base.iloc[:] = fc.iloc[:]\n",
    "\n",
    "\n",
    "#= 'CTRL'\n",
    "fc_base.loc[ fc_base['Pyogenes_gene'] == \"AAVS1\", 'Pyogenes_gene' ] = 'control'\n",
    "fc_base.loc[ fc_base['Aureus_gene'] == \"AAVS1\", 'Aureus_gene' ] = 'control'\n",
    "\n",
    "fc_base.loc[(fc_base['Pyogenes_gene'] == 'control')]\n",
    "fc_base.rename(columns = {fc_base.columns[0]:'GENE1', fc_base.columns[1]: 'GENE2'}, inplace = True)\n",
    "fc_base.head()\n"
   ]
  },
  {
   "cell_type": "code",
   "execution_count": null,
   "id": "c0a055a4",
   "metadata": {},
   "outputs": [],
   "source": [
    "## Merge replicates by mean\n",
    "cells = list([ 'Meljuso', 'GI1_004',\n",
    "       'MEL202_003', 'PK1', 'MEWO',\n",
    "       'HS944T', 'IPC298', 'A549',\n",
    "       'HSC5', 'HS936T', 'PATU8988S'])\n",
    "cols = list(['GENE1']) + list( ['GENE2']) + cells\n",
    "cols\n",
    "fc_merge = pd.DataFrame( columns=cols, index=fc_base.index, dtype=float)\n",
    "fc_merge.GENE1 = fc_base.GENE1\n",
    "fc_merge.GENE2 = fc_base.GENE2\n",
    "\n",
    "for cell in cells:\n",
    "    samples = [x for x in fc_base.columns if cell in x]\n",
    "    fc_merge[cell] = fc[ samples ].mean(1)\n",
    "\n",
    "fc_merge"
   ]
  },
  {
   "cell_type": "code",
   "execution_count": null,
   "id": "46de6b5a",
   "metadata": {},
   "outputs": [],
   "source": [
    "is_ctrl = where( (fc_merge.GENE1=='control') | (fc_merge.GENE2=='control') )[0]\n",
    "\n",
    "is_ctrl1 = where( fc_merge.GENE1=='control' )[0]\n",
    "is_ctrl2 = where( fc_merge.GENE2=='control' )[0]\n",
    "\n",
    "\n",
    "smf_gene1 = fc_merge.iloc[is_ctrl2].groupby('GENE1').mean(numeric_only = True) # calculate means of multiple runs of same gene\n",
    "smf_gene2 = fc_merge.iloc[is_ctrl1].groupby('GENE2').mean(numeric_only = True)\n",
    "\n",
    "\n",
    "smf_guide1 = fc_merge.iloc[is_ctrl2].groupby('GENE1')\n",
    "smf_guide2 = fc_merge.iloc[is_ctrl1].groupby('GENE2')\n"
   ]
  },
  {
   "cell_type": "code",
   "execution_count": null,
   "id": "efd3b478",
   "metadata": {},
   "outputs": [],
   "source": [
    "smf_gene = smf_gene1.join(smf_gene2, lsuffix='_Aposn', rsuffix='_Bposn')\n",
    "smf_gene # so this dataset has CTRL-GENE as A_549_Bposn and GENE-CTRL a sA_549_APosn\n",
    "\n",
    "len(smf_gene)\n",
    "smf_gene"
   ]
  },
  {
   "cell_type": "code",
   "execution_count": null,
   "id": "5ff1bc0a",
   "metadata": {},
   "outputs": [],
   "source": [
    "for cell in cells:\n",
    "    f, ax = pyplot.subplots(figsize=(10,5))\n",
    "    sns.scatterplot(data=smf_gene, x=cell + '_Aposn',y=cell + '_Bposn', ax=ax)\n",
    "    plot([-4,1],[-4,1],'r--')\n",
    "    print(cell + ': ' + str( stats.pearsonr( smf_gene[ cell + '_Aposn' ], smf_gene[cell + '_Bposn' ])) ) "
   ]
  },
  {
   "cell_type": "code",
   "execution_count": null,
   "id": "618032d2",
   "metadata": {},
   "outputs": [],
   "source": [
    "for cell in cells:\n",
    "    smf_gene[cell] = smf_gene[ [cell + '_Aposn', cell + '_Bposn'] ].mean(1)\n",
    "    smf_gene.drop( [cell + '_Aposn', cell + '_Bposn'], axis=1, inplace=True )\n",
    "    \n",
    "smf_gene"
   ]
  },
  {
   "cell_type": "code",
   "execution_count": null,
   "id": "dd469ae3",
   "metadata": {},
   "outputs": [],
   "source": [
    "pairs = fc_merge[(fc_merge['GENE1'] != \"control\") & (fc_merge['GENE2'] != \"control\")] # These are all experiments without control,\n",
    "pairs =  pairs[[\"GENE1\", \"GENE2\"]]\n",
    "pairs =pairs.drop_duplicates(keep='first')\n",
    "pairs.insert(2, \"GENE1_GENE2\",np.tile(\"ZZ\",len(pairs)), True)\n",
    "\n",
    "\n",
    "\n",
    "pairs.columns\n",
    "for ind in pairs.index:\n",
    "    g1 = pairs.loc[ind, 'GENE1']\n",
    "    g2 = pairs.loc[ind, 'GENE2']\n",
    "    newval = g1 + \"_\" + g2\n",
    "    if g1 > g2:\n",
    "        newval = g2 + \"_\" + g1\n",
    "    pairs.loc[ind,\"GENE1_GENE2\"] = newval\n",
    "\n",
    "   \n",
    "pairs\n",
    "print(len(pairs))\n",
    "pairs.drop_duplicates(subset=\"GENE1_GENE2\", keep=\"first\",inplace = True)\n",
    "print(len(pairs))\n"
   ]
  },
  {
   "cell_type": "code",
   "execution_count": null,
   "id": "4e6796f2",
   "metadata": {},
   "outputs": [],
   "source": [
    "fc_merge.columns\n",
    "dLFC = pd.DataFrame( index=list(pairs.GENE1 + \"_\" + pairs.GENE2), columns=fc_merge.columns[2:], dtype=float)\n"
   ]
  },
  {
   "cell_type": "code",
   "execution_count": null,
   "id": "3284afe9",
   "metadata": {},
   "outputs": [],
   "source": [
    "smf = smf_gene\n",
    "for pair_idx in pairs.index:\n",
    "    g1 = pairs.loc[pair_idx].GENE1\n",
    "    g2 = pairs.loc[pair_idx].GENE2\n",
    "    expt_idx  = list( where( ( (fc_merge.GENE1==g1) & (fc_merge.GENE2==g2) )  | ( (fc_merge.GENE1==g2) & (fc_merge.GENE2==g1)  ))[0] )\n",
    "    \n",
    "    if ( len(expt_idx)==0 ):\n",
    "        continue\n",
    "    smf_sum = smf.loc[g1] + smf.loc[g2]\n",
    "    expt = fc_merge.iloc[ expt_idx ]\n",
    "    genepair = g1 + \"_\" + g2\n",
    "    dLFC.loc[genepair] = expt.median(0,numeric_only=True) - smf_sum"
   ]
  },
  {
   "cell_type": "code",
   "execution_count": null,
   "id": "0db5399f",
   "metadata": {},
   "outputs": [],
   "source": [
    "zdLFC = pd.DataFrame( index=dLFC.index, columns=dLFC.columns, dtype=float ) \n"
   ]
  },
  {
   "cell_type": "code",
   "execution_count": null,
   "id": "cb68096e",
   "metadata": {},
   "outputs": [],
   "source": [
    "\n",
    "percentile = 2.5\n",
    "for col in zdLFC.columns:\n",
    "    #print(col)\n",
    "    top = np.percentile( dLFC.loc[:,col], percentile)\n",
    "    bot = np.percentile( dLFC.loc[:,col], 100-percentile)\n",
    "    #print(top,bot)\n",
    "    mu = dLFC.iloc[ where( (dLFC[col]>top) & (dLFC[col]<bot))[0] ][col].mean() # This is because our dist is truncated normal\n",
    "    std = dLFC.iloc[ where( (dLFC[col]>top) & (dLFC[col]<bot))[0] ][col].std()\n",
    "    #print(mu, std)\n",
    "    zdLFC[col] = (dLFC[col] - mu) / std"
   ]
  },
  {
   "cell_type": "code",
   "execution_count": null,
   "id": "31ec10b1",
   "metadata": {},
   "outputs": [],
   "source": [
    "zdLFC"
   ]
  },
  {
   "cell_type": "code",
   "execution_count": null,
   "id": "4fa54999",
   "metadata": {},
   "outputs": [],
   "source": [
    "## Representation of a kernel-density estimate using Gaussian kernels.Kernel density estimation is a way to estimate\n",
    "# the probability density function (PDF) of a random variable in a non-parametric way. gaussian_kde works for both \n",
    "# uni-variate and multi-variate data. It includes automatic bandwidth determination. The estimation works best for\n",
    "# a unimodal distribution; bimodal or multi-modal distributions tend to be oversmoothed.\n",
    "xx = linspace(-10,10,500)\n",
    "kde_a549 = stats.gaussian_kde( zdLFC.A549 )\n",
    "kde_MEL202_003 = stats.gaussian_kde( zdLFC.MEL202_003 )\n",
    "kde_GI1_004 = stats.gaussian_kde( zdLFC.GI1_004 )\n",
    "kde_PK1 = stats.gaussian_kde( zdLFC.PK1 )\n",
    "\n",
    "kde_MEWO = stats.gaussian_kde( zdLFC.MEWO )\n",
    "\n",
    "kde_GI1_004 = stats.gaussian_kde( zdLFC.GI1_004 )\n",
    "\n",
    "kde_HS944T = stats.gaussian_kde( zdLFC.HS944T )\n",
    "\n",
    "kde_IPC298 = stats.gaussian_kde( zdLFC.IPC298 )\n",
    "\n",
    "\n",
    "kde_HSC5= stats.gaussian_kde( zdLFC.HSC5 )\n",
    "kde_HS936T= stats.gaussian_kde( zdLFC.HS936T )\n",
    "kde_PATU8988S= stats.gaussian_kde( zdLFC.PATU8988S )\n",
    "#kde_HSC5= stats.gaussian_kde( zdLFC.HSC5 )\n",
    "figure( figsize(5,4) )\n",
    "plot( xx, stats.norm.pdf( xx), label='normal', linewidth=4 )\n",
    "plot( xx, kde_a549.evaluate(xx), label='A549')\n",
    "plot( xx, kde_MEL202_003.evaluate(xx), label='MEL202_003')\n",
    "plot( xx, kde_GI1_004.evaluate(xx), label='GI1_004')\n",
    "plot( xx, kde_PK1.evaluate(xx), label='PK1')\n",
    "plot( xx, kde_MEWO.evaluate(xx), label='MEWO')\n",
    "plot( xx, kde_HS944T.evaluate(xx), label='HS944T')\n",
    "plot( xx, kde_IPC298.evaluate(xx), label='IPC298')\n",
    "plot( xx, kde_PATU8988S.evaluate(xx), label='PATU8988S')\n",
    "plot( xx, kde_HSC5.evaluate(xx), label='HSC5')\n",
    "plot( xx, kde_HS936T.evaluate(xx), label='HS936T')\n",
    "\n",
    "\n",
    "legend(loc=2)\n",
    "#savefig('normfit-of-zdLFC.pdf')\n",
    "show()\n"
   ]
  },
  {
   "cell_type": "code",
   "execution_count": null,
   "id": "803e8827",
   "metadata": {},
   "outputs": [],
   "source": [
    "def reindex_alphbetically(df):\n",
    "    result = []\n",
    "    for index, row in df.iterrows():\n",
    "        a, b = index.split('_')\n",
    "        if a < b:\n",
    "            result.append(f'{a}_{b}')\n",
    "        else:\n",
    "            result.append(f'{b}_{a}')\n",
    "    \n",
    "    \n",
    "    return(result)\n",
    "\n",
    "\n",
    "zdLFC.index = reindex_alphbetically(zdLFC)\n",
    "zdLFC.to_csv(\"zdLFC Output/ITO.csv\", index=True)  # Set index=False to exclude the index column"
   ]
  }
 ],
 "metadata": {
  "kernelspec": {
   "display_name": "Python 3 (ipykernel)",
   "language": "python",
   "name": "python3"
  },
  "language_info": {
   "codemirror_mode": {
    "name": "ipython",
    "version": 3
   },
   "file_extension": ".py",
   "mimetype": "text/x-python",
   "name": "python",
   "nbconvert_exporter": "python",
   "pygments_lexer": "ipython3",
   "version": "3.10.9"
  }
 },
 "nbformat": 4,
 "nbformat_minor": 5
}
