{
 "cells": [
  {
   "cell_type": "code",
   "execution_count": null,
   "id": "da35811d",
   "metadata": {},
   "outputs": [],
   "source": [
    "import os\n",
    "#Ignore Consensus, this was used when pre-processing was apploed but only common pairs across all scoring methods were retained for analysis\n",
    "def combine(output_folder, file_list, validation_set, metric, Consensus = False):\n",
    "    dataframes = []\n",
    "    for file in file_list:\n",
    "        \n",
    "        full_path = os.path.join(output_folder, file)\n",
    "        #print(full_path)\n",
    "        df = pd.read_csv(full_path)\n",
    "        dataframes.append(df)\n",
    "    \n",
    "    # Concatenate all the DataFrames\n",
    "    full_set = pd.concat(dataframes, ignore_index=True)\n",
    "    \n",
    "    # Add the additional columns\n",
    "    full_set['Metric'] = metric\n",
    "    full_set['Validation Set'] = validation_set\n",
    "    full_set['Consensus'] = Consensus\n",
    "    \n",
    "    return full_set\n",
    "    \n"
   ]
  },
  {
   "cell_type": "code",
   "execution_count": null,
   "id": "4d018f22",
   "metadata": {},
   "outputs": [],
   "source": [
    "## set apply_filter = False and run code for all screens with this setting\n",
    "\n",
    "%run AnalysisFunctions.ipynb \n",
    "apply_filter = \"False\"\n",
    "\n",
    "%run DeDe-Analysis.ipynb\n",
    "%run Chymera-Analysis.ipynb\n",
    "%run ITO-Analysis.ipynb\n",
    "%run Parrish-Analysis.ipynb\n",
    "%run Thompson-Analysis.ipynb"
   ]
  },
  {
   "cell_type": "code",
   "execution_count": null,
   "id": "c7ab01b2",
   "metadata": {},
   "outputs": [],
   "source": [
    "## Initialise an empty dataframe\n",
    "full_set = pd.DataFrame(columns=['Metric', 'value', 'Score', 'Common samples','Positive Samples','Cell line', 'Study name','Validation Set', 'Consensus'])\n"
   ]
  },
  {
   "cell_type": "code",
   "execution_count": null,
   "id": "9c32369e",
   "metadata": {},
   "outputs": [],
   "source": [
    "if apply_filter == \"True\":\n",
    "    output_folder =  \"Output/Filtered\"\n",
    "else:\n",
    "    output_folder = \"Output/\"\n"
   ]
  },
  {
   "cell_type": "code",
   "execution_count": null,
   "id": "5284e981",
   "metadata": {},
   "outputs": [],
   "source": [
    "files = [\"Dede_ROC_DepMapHits.csv\", \"Thompson_ROC_DepMapHits.csv\", \"Parrish_ROC_DepMapHits.csv\",\n",
    "      \"Ito_ROC_DepMapHits.csv\", \"Chymera_ROC_DepMapHits.csv\"]\n",
    "\n",
    "roc_DepMapHits = combine(output_folder, files, \"DepMap Hits\", \"AUROC\")\n",
    "roc_DepMapHits"
   ]
  },
  {
   "cell_type": "code",
   "execution_count": null,
   "id": "c51a96bf",
   "metadata": {},
   "outputs": [],
   "source": [
    "files = [\"Dede_PR_DepMapHits.csv\", \"Thompson_PR_DepMapHits.csv\", \"Parrish_PR_DepMapHits.csv\",\n",
    "      \"Ito_PR_DepMapHits.csv\", \"Chymera_PR_DepMapHits.csv\"]\n",
    "pr_DepMapHits = combine(output_folder, files, \"DepMap Hits\", \"AUPR\")\n",
    "pr_DepMapHits"
   ]
  },
  {
   "cell_type": "code",
   "execution_count": null,
   "id": "715fb68e",
   "metadata": {},
   "outputs": [],
   "source": [
    "files = [\"Dede_All_ROC_DepMapHits.csv\", \"Thompson_All_ROC_DepMapHits.csv\", \"Parrish_All_ROC_DepMapHits.csv\",\n",
    "      \"Ito_All_ROC_DepMapHits.csv\", \"Chymera_All_ROC_DepMapHits.csv\"]\n",
    "roc_all_DepMapHits = combine(output_folder, files, \"DepMap Hits\", \"AUROC\")\n",
    "roc_all_DepMapHits"
   ]
  },
  {
   "cell_type": "code",
   "execution_count": null,
   "id": "dff1cb84",
   "metadata": {},
   "outputs": [],
   "source": [
    "files = [\"Dede_All_PR_DepMapHits.csv\", \"Thompson_All_PR_DepMapHits.csv\", \"Parrish_All_PR_DepMapHits.csv\",\n",
    "      \"Ito_All_PR_DepMapHits.csv\", \"Chymera_All_PR_DepMapHits.csv\"]\n",
    "pr_all_DepMapHits = combine(output_folder, files, \"DepMap Hits\", \"AUPR\")\n",
    "pr_all_DepMapHits"
   ]
  },
  {
   "cell_type": "code",
   "execution_count": null,
   "id": "929f246b",
   "metadata": {},
   "outputs": [],
   "source": [
    "DepMap_Hits = pd.concat([roc_DepMapHits, pr_DepMapHits,roc_all_DepMapHits, pr_all_DepMapHits])\n",
    "full_path = os.path.join(output_folder, \"Compiled\", \"DepMapHit_Results.csv\")\n",
    "DepMap_Hits.to_csv(full_path)\n",
    "DepMap_Hits\n"
   ]
  },
  {
   "cell_type": "code",
   "execution_count": null,
   "id": "6806c47a",
   "metadata": {},
   "outputs": [],
   "source": [
    "filtered"
   ]
  },
  {
   "cell_type": "code",
   "execution_count": null,
   "id": "f9270419",
   "metadata": {},
   "outputs": [],
   "source": [
    "files = [\"Dede_ROC_Koferle.csv\", \"Thompson_ROC_Koferle.csv\", \"Parrish_ROC_Koferle.csv\",\n",
    "      \"Ito_ROC_Koferle.csv\", \"Chymera_ROC_Koferle.csv\"]\n",
    "roc_Koferle = combine(output_folder, files, \"Köferle List\", \"AUROC\")\n",
    "roc_Koferle"
   ]
  },
  {
   "cell_type": "code",
   "execution_count": null,
   "id": "930f6e1d",
   "metadata": {},
   "outputs": [],
   "source": [
    "files = [\"Dede_PR_Koferle.csv\", \"Thompson_PR_Koferle.csv\", \"Parrish_PR_Koferle.csv\",\n",
    "      \"Ito_PR_Koferle.csv\", \"Chymera_PR_Koferle.csv\"]\n",
    "pr_Koferle = combine(output_folder, files, \"Köferle List\", \"AUPR\")\n",
    "pr_Koferle"
   ]
  },
  {
   "cell_type": "code",
   "execution_count": null,
   "id": "e0d2398b",
   "metadata": {},
   "outputs": [],
   "source": [
    "files = [\"Dede_All_ROC_Koferle.csv\", \"Thompson_All_ROC_Koferle.csv\", \"Parrish_All_ROC_Koferle.csv\",\n",
    "      \"Ito_All_ROC_Koferle.csv\", \"Chymera_All_ROC_Koferle.csv\"]\n",
    "roc_all_Koferle = combine(output_folder, files, \"Köferle List\", \"AUROC\")\n",
    "roc_all_Koferle"
   ]
  },
  {
   "cell_type": "code",
   "execution_count": null,
   "id": "49c0002b",
   "metadata": {},
   "outputs": [],
   "source": [
    "files = [\"Dede_All_PR_Koferle.csv\", \"Thompson_All_PR_Koferle.csv\", \"Parrish_All_PR_Koferle.csv\",\n",
    "      \"Ito_All_PR_Koferle.csv\", \"Chymera_All_PR_Koferle.csv\"]\n",
    "pr_all_Koferle = combine(output_folder, files, \"Köferle List\", \"AUPR\")\n",
    "pr_all_Koferle"
   ]
  },
  {
   "cell_type": "code",
   "execution_count": null,
   "id": "984e1c35",
   "metadata": {},
   "outputs": [],
   "source": [
    "Koferle = pd.concat([roc_Koferle, pr_Koferle,roc_all_Koferle, pr_all_Koferle])\n",
    "full_path = os.path.join(output_folder, \"Compiled\", \"Koferle_Results.csv\")\n",
    "Koferle.to_csv(full_path)\n",
    "Koferle"
   ]
  },
  {
   "cell_type": "code",
   "execution_count": null,
   "id": "659bbf4f",
   "metadata": {},
   "outputs": [],
   "source": [
    "results = pd.concat([DepMap_Hits,Koferle])\n",
    "full_path = os.path.join(output_folder, \"Compiled\", \"Combined_Results.csv\")\n",
    "results.to_csv(full_path)\n",
    "results"
   ]
  },
  {
   "cell_type": "code",
   "execution_count": null,
   "id": "1034dad0",
   "metadata": {},
   "outputs": [],
   "source": []
  }
 ],
 "metadata": {
  "kernelspec": {
   "display_name": "Python 3 (ipykernel)",
   "language": "python",
   "name": "python3"
  },
  "language_info": {
   "codemirror_mode": {
    "name": "ipython",
    "version": 3
   },
   "file_extension": ".py",
   "mimetype": "text/x-python",
   "name": "python",
   "nbconvert_exporter": "python",
   "pygments_lexer": "ipython3",
   "version": "3.10.9"
  }
 },
 "nbformat": 4,
 "nbformat_minor": 5
}
